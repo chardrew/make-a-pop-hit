{
 "cells": [
  {
   "cell_type": "code",
   "execution_count": 7,
   "metadata": {},
   "outputs": [],
   "source": [
    "import os\n",
    "import ast\n",
    "\n",
    "import pandas as pd\n",
    "import numpy as np\n",
    "import matplotlib.pyplot as plt\n",
    "\n",
    "# import ML libraries\n",
    "from sklearn.model_selection import train_test_split"
   ]
  },
  {
   "cell_type": "code",
   "execution_count": 8,
   "metadata": {},
   "outputs": [],
   "source": [
    "# set relative directory paths\n",
    "DATA_DIR = os.path.join(os.getcwd(), '..', 'data')\n",
    "DATA_LOOKUPS_DIR = os.path.join(DATA_DIR, 'lookups')\n",
    "DATA_RAW_DIR = os.path.join(DATA_DIR, 'raw')\n",
    "DATA_PROCESSED_DIR = os.path.join(DATA_DIR, 'processed')\n",
    "DATA_TRAIN_DIR = os.path.join(DATA_PROCESSED_DIR, 'train')\n",
    "DATA_TEST_DIR = os.path.join(DATA_PROCESSED_DIR, 'test')\n",
    "key_chord_mapping = pd.read_csv(os.path.join(DATA_LOOKUPS_DIR, 'musical_key-triad_chord_mapping.csv'), index_col='Degree')"
   ]
  },
  {
   "cell_type": "code",
   "execution_count": 9,
   "metadata": {
    "scrolled": true
   },
   "outputs": [],
   "source": [
    "def filter_sections_by_length(df, t_l, t_h):\n",
    "    '''\n",
    "    keep sections from df whose lengths are in set [t_l, t_h] inclusive\n",
    "    '''\n",
    "    df['section_length'] = df.chords.apply(len)\n",
    "    df = df[(df.section_length >= t_l) & (df.section_length <= t_h)]\n",
    "    \n",
    "    return df.drop(columns='section_length')\n",
    "\n",
    "\n",
    "def remove_duplicates(df):\n",
    "    '''\n",
    "    remove duplicate entries for each song\n",
    "    '''\n",
    "    song_ids = df.id.unique()\n",
    "    df_unique = pd.DataFrame()\n",
    "    df.chords = df.chords.apply(str)\n",
    "    for i in song_ids:\n",
    "        sec = df[df.id == i].chords.unique()\n",
    "        song_id_array = [i] * len(sec)\n",
    "        data = {'song_id': song_id_array, 'chords': sec}\n",
    "        df_unique = df_unique.append(pd.DataFrame(data))\n",
    "    df_unique.chords = df_unique.chords.apply(ast.literal_eval)\n",
    "    \n",
    "    return df_unique\n",
    "\n",
    "\n",
    "def extend_section_lengths(sections, L):\n",
    "    '''\n",
    "    extends chords in series to length, L\n",
    "    sections, s, will be repeated and truncated at length l\n",
    "    '''\n",
    "    long_sections = []\n",
    "    for s in sections:\n",
    "        long_sec = []\n",
    "        if len(s) == 0:\n",
    "            continue\n",
    "        while len(long_sec) < L:\n",
    "            long_sec.extend(s)\n",
    "        long_sections.append(long_sec[:L])\n",
    "        \n",
    "    return pd.Series(long_sections)"
   ]
  },
  {
   "cell_type": "code",
   "execution_count": 10,
   "metadata": {},
   "outputs": [],
   "source": [
    "df = pd.read_csv(os.path.join(DATA_RAW_DIR, 'chords_by_section.csv'), index_col='Unnamed: 0')\n",
    "df = df[['id', 'chords_numeric']]\n",
    "df.chords_numeric = df.chords_numeric.apply(ast.literal_eval)\n",
    "df.rename(columns={'chords_numeric': 'chords'}, inplace=True)\n",
    "\n",
    "MIN_SECTION_LENGTH = 2\n",
    "MAX_SECTION_LENGTH = 16\n",
    "df = filter_sections_by_length(df, MIN_SECTION_LENGTH, MAX_SECTION_LENGTH)\n",
    "df = remove_duplicates(df)\n",
    "df.chords = extend_section_lengths(df.chords, 20)\n",
    "\n",
    "df = df.reset_index().drop(columns='index')"
   ]
  },
  {
   "cell_type": "code",
   "execution_count": 11,
   "metadata": {},
   "outputs": [
    {
     "data": {
      "image/png": "[encoded data removed]",
      "text/plain": [
       "<Figure size 432x288 with 1 Axes>"
      ]
     },
     "metadata": {
      "needs_background": "light"
     },
     "output_type": "display_data"
    }
   ],
   "source": [
    "df['section_length'] = df.chords.apply(len)\n",
    "plt.figure();\n",
    "plt.ylim(ymax=max(df.section_length) + 2, ymin=min(df.section_length) - 2);\n",
    "plt.bar(df.index, df.section_length);"
   ]
  },
  {
   "cell_type": "code",
   "execution_count": 12,
   "metadata": {},
   "outputs": [
    {
     "data": {
      "text/html": [
       "<div>\n",
       "<style scoped>\n",
       "    .dataframe tbody tr th:only-of-type {\n",
       "        vertical-align: middle;\n",
       "    }\n",
       "\n",
       "    .dataframe tbody tr th {\n",
       "        vertical-align: top;\n",
       "    }\n",
       "\n",
       "    .dataframe thead th {\n",
       "        text-align: right;\n",
       "    }\n",
       "</style>\n",
       "<table border=\"1\" class=\"dataframe\">\n",
       "  <thead>\n",
       "    <tr style=\"text-align: right;\">\n",
       "      <th></th>\n",
       "      <th>song_id</th>\n",
       "      <th>chords</th>\n",
       "      <th>section_length</th>\n",
       "    </tr>\n",
       "  </thead>\n",
       "  <tbody>\n",
       "    <tr>\n",
       "      <td>0</td>\n",
       "      <td>198052</td>\n",
       "      <td>[1, 6, 1, 6, 1, 6, 1, 6, 1, 6, 1, 6, 1, 6, 1, ...</td>\n",
       "      <td>20</td>\n",
       "    </tr>\n",
       "    <tr>\n",
       "      <td>1</td>\n",
       "      <td>198052</td>\n",
       "      <td>[1, 6, 1, 6, 4, 5, 1, 5, 1, 4, 5, 6, 4, 5, 1, ...</td>\n",
       "      <td>20</td>\n",
       "    </tr>\n",
       "    <tr>\n",
       "      <td>2</td>\n",
       "      <td>198052</td>\n",
       "      <td>[4, 6, 4, 1, 5, 1, 6, 1, 6, 4, 6, 4, 1, 5, 1, ...</td>\n",
       "      <td>20</td>\n",
       "    </tr>\n",
       "    <tr>\n",
       "      <td>3</td>\n",
       "      <td>198052</td>\n",
       "      <td>[1, 6, 1, 6, 4, 5, 1, 5, 1, 4, 5, 6, 4, 5, 4, ...</td>\n",
       "      <td>20</td>\n",
       "    </tr>\n",
       "    <tr>\n",
       "      <td>4</td>\n",
       "      <td>1956589</td>\n",
       "      <td>[1, 6, 1, 6, 1, 6, 1, 6, 1, 6, 1, 6, 1, 6, 1, ...</td>\n",
       "      <td>20</td>\n",
       "    </tr>\n",
       "    <tr>\n",
       "      <td>...</td>\n",
       "      <td>...</td>\n",
       "      <td>...</td>\n",
       "      <td>...</td>\n",
       "    </tr>\n",
       "    <tr>\n",
       "      <td>10949</td>\n",
       "      <td>58277</td>\n",
       "      <td>[1, 6, 1, 6, 1, 6, 1, 6, 1, 6, 1, 6, 1, 6, 1, ...</td>\n",
       "      <td>20</td>\n",
       "    </tr>\n",
       "    <tr>\n",
       "      <td>10950</td>\n",
       "      <td>141670</td>\n",
       "      <td>[1, 6, 1, 6, 1, 6, 1, 6, 1, 6, 1, 6, 1, 6, 1, ...</td>\n",
       "      <td>20</td>\n",
       "    </tr>\n",
       "    <tr>\n",
       "      <td>10951</td>\n",
       "      <td>141670</td>\n",
       "      <td>[1, 6, 1, 6, 4, 5, 1, 5, 1, 4, 5, 6, 4, 5, 1, ...</td>\n",
       "      <td>20</td>\n",
       "    </tr>\n",
       "    <tr>\n",
       "      <td>10952</td>\n",
       "      <td>141670</td>\n",
       "      <td>[4, 6, 4, 1, 5, 1, 6, 1, 6, 4, 6, 4, 1, 5, 1, ...</td>\n",
       "      <td>20</td>\n",
       "    </tr>\n",
       "    <tr>\n",
       "      <td>10953</td>\n",
       "      <td>141670</td>\n",
       "      <td>[1, 6, 1, 6, 4, 5, 1, 5, 1, 4, 5, 6, 4, 5, 4, ...</td>\n",
       "      <td>20</td>\n",
       "    </tr>\n",
       "  </tbody>\n",
       "</table>\n",
       "<p>10954 rows × 3 columns</p>\n",
       "</div>"
      ],
      "text/plain": [
       "       song_id                                             chords  \\\n",
       "0       198052  [1, 6, 1, 6, 1, 6, 1, 6, 1, 6, 1, 6, 1, 6, 1, ...   \n",
       "1       198052  [1, 6, 1, 6, 4, 5, 1, 5, 1, 4, 5, 6, 4, 5, 1, ...   \n",
       "2       198052  [4, 6, 4, 1, 5, 1, 6, 1, 6, 4, 6, 4, 1, 5, 1, ...   \n",
       "3       198052  [1, 6, 1, 6, 4, 5, 1, 5, 1, 4, 5, 6, 4, 5, 4, ...   \n",
       "4      1956589  [1, 6, 1, 6, 1, 6, 1, 6, 1, 6, 1, 6, 1, 6, 1, ...   \n",
       "...        ...                                                ...   \n",
       "10949    58277  [1, 6, 1, 6, 1, 6, 1, 6, 1, 6, 1, 6, 1, 6, 1, ...   \n",
       "10950   141670  [1, 6, 1, 6, 1, 6, 1, 6, 1, 6, 1, 6, 1, 6, 1, ...   \n",
       "10951   141670  [1, 6, 1, 6, 4, 5, 1, 5, 1, 4, 5, 6, 4, 5, 1, ...   \n",
       "10952   141670  [4, 6, 4, 1, 5, 1, 6, 1, 6, 4, 6, 4, 1, 5, 1, ...   \n",
       "10953   141670  [1, 6, 1, 6, 4, 5, 1, 5, 1, 4, 5, 6, 4, 5, 4, ...   \n",
       "\n",
       "       section_length  \n",
       "0                  20  \n",
       "1                  20  \n",
       "2                  20  \n",
       "3                  20  \n",
       "4                  20  \n",
       "...               ...  \n",
       "10949              20  \n",
       "10950              20  \n",
       "10951              20  \n",
       "10952              20  \n",
       "10953              20  \n",
       "\n",
       "[10954 rows x 3 columns]"
      ]
     },
     "execution_count": 12,
     "metadata": {},
     "output_type": "execute_result"
    }
   ],
   "source": [
    "df"
   ]
  },
  {
   "cell_type": "code",
   "execution_count": 297,
   "metadata": {},
   "outputs": [],
   "source": [
    "X = df.chords\n",
    "\n",
    "# Save ML datasets\n",
    "#X_train, X_test, y_train, y_test = train_test_split(X, y, test_size = 0.2)\n",
    "\n",
    "'''\n",
    "X_train.to_csv(os.path.join(DATA_PROCESSED_DIR, 'train', 'X_train.csv'), header=True)\n",
    "y_train.to_csv(os.path.join(DATA_PROCESSED_DIR, 'train', 'y_train.csv'), header=True)\n",
    "X_test.to_csv(os.path.join(DATA_PROCESSED_DIR, 'test', 'X_test.csv'), header=True)\n",
    "y_test.to_csv(os.path.join(DATA_PROCESSED_DIR, 'test', 'y_test.csv'), header=True)\n",
    "''';"
   ]
  },
  {
   "cell_type": "code",
   "execution_count": 338,
   "metadata": {},
   "outputs": [],
   "source": [
    "# create RNN architecture/model\n"
   ]
  },
  {
   "cell_type": "code",
   "execution_count": 4,
   "metadata": {},
   "outputs": [],
   "source": [
    "# train model\n"
   ]
  },
  {
   "cell_type": "code",
   "execution_count": 5,
   "metadata": {},
   "outputs": [],
   "source": [
    "# test model\n"
   ]
  },
  {
   "cell_type": "code",
   "execution_count": 6,
   "metadata": {},
   "outputs": [],
   "source": [
    "# plot outputs / determine metrics\n"
   ]
  },
  {
   "cell_type": "code",
   "execution_count": 7,
   "metadata": {},
   "outputs": [],
   "source": [
    "# create two dummy progressions of various lengths\n"
   ]
  }
 ],
 "metadata": {
  "kernelspec": {
   "display_name": "Python 3",
   "language": "python",
   "name": "python3"
  },
  "language_info": {
   "codemirror_mode": {
    "name": "ipython",
    "version": 3
   },
   "file_extension": ".py",
   "mimetype": "text/x-python",
   "name": "python",
   "nbconvert_exporter": "python",
   "pygments_lexer": "ipython3",
   "version": "3.7.4"
  }
 },
 "nbformat": 4,
 "nbformat_minor": 2
}
